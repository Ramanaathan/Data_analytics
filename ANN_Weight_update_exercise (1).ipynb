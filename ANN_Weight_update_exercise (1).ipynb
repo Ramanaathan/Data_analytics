{
 "cells": [
  {
   "cell_type": "code",
   "execution_count": 66,
   "metadata": {
    "colab": {},
    "colab_type": "code",
    "id": "cvWx-11EdM0N"
   },
   "outputs": [],
   "source": [
    "from keras.models import Sequential\n",
    "from keras.layers import Dense\n",
    "import numpy as np"
   ]
  },
  {
   "cell_type": "code",
   "execution_count": 67,
   "metadata": {
    "colab": {},
    "colab_type": "code",
    "id": "ad5vflY8e-zv"
   },
   "outputs": [],
   "source": [
    "ANN = Sequential()"
   ]
  },
  {
   "cell_type": "code",
   "execution_count": 68,
   "metadata": {
    "colab": {},
    "colab_type": "code",
    "id": "j34zXKmdfDHS"
   },
   "outputs": [],
   "source": [
    "ANN.add(Dense(2,activation=\"sigmoid\",input_dim=3))\n",
    "ANN.add(Dense(3,activation=\"sigmoid\"))\n",
    "ANN.add(Dense(2))"
   ]
  },
  {
   "cell_type": "code",
   "execution_count": 69,
   "metadata": {
    "colab": {
     "base_uri": "https://localhost:8080/",
     "height": 88
    },
    "colab_type": "code",
    "id": "zz4RYYwLiMh-",
    "outputId": "e1c62de4-d2be-4b90-e137-7c643c8e1064"
   },
   "outputs": [
    {
     "data": {
      "text/plain": [
       "[array([[-0.49046737, -0.5760417 ],\n",
       "        [-0.9606068 ,  0.4081005 ],\n",
       "        [ 0.6869947 , -0.1004681 ]], dtype=float32),\n",
       " array([0., 0.], dtype=float32)]"
      ]
     },
     "execution_count": 69,
     "metadata": {},
     "output_type": "execute_result"
    }
   ],
   "source": [
    "ANN.layers[0].get_weights()"
   ]
  },
  {
   "cell_type": "code",
   "execution_count": 70,
   "metadata": {
    "colab": {},
    "colab_type": "code",
    "id": "_1FtFFTOhTFd"
   },
   "outputs": [],
   "source": [
    "w12=np.array([[0.2,-0.3],[0.4,0.1],[-0.5,0.2]])\n",
    "bias1=np.array([0.4,0.2])\n",
    "weights1=[w12,bias1]\n",
    "weights1\n",
    "\n",
    "ANN.layers[0].set_weights(weights1)"
   ]
  },
  {
   "cell_type": "code",
   "execution_count": 71,
   "metadata": {
    "colab": {
     "base_uri": "https://localhost:8080/",
     "height": 71
    },
    "colab_type": "code",
    "id": "e3Scb32on17z",
    "outputId": "fa437eee-d055-4ee8-a674-baa8d48accdf"
   },
   "outputs": [
    {
     "data": {
      "text/plain": [
       "[array([[ 0.17228007, -0.6467335 , -0.39491773],\n",
       "        [ 0.51604843, -0.8810123 ,  0.4276421 ]], dtype=float32),\n",
       " array([0., 0., 0.], dtype=float32)]"
      ]
     },
     "execution_count": 71,
     "metadata": {},
     "output_type": "execute_result"
    }
   ],
   "source": [
    "ANN.layers[1].get_weights()"
   ]
  },
  {
   "cell_type": "code",
   "execution_count": 72,
   "metadata": {
    "colab": {},
    "colab_type": "code",
    "id": "J4Dj1vkPnY3o"
   },
   "outputs": [],
   "source": [
    "w23=np.array([[-0.3,0.2,0.6],[-0.2,-0.1,-0.2]])\n",
    "bias2=np.array([0.1,0.1,0.2])\n",
    "weights2=[w23,bias2]\n",
    "weights2\n",
    "\n",
    "ANN.layers[1].set_weights(weights2)"
   ]
  },
  {
   "cell_type": "code",
   "execution_count": 73,
   "metadata": {
    "colab": {
     "base_uri": "https://localhost:8080/",
     "height": 88
    },
    "colab_type": "code",
    "id": "Qjl9jqbtoWwL",
    "outputId": "123c61b2-c20e-460b-e9b9-54fc48b9343f"
   },
   "outputs": [
    {
     "data": {
      "text/plain": [
       "[array([[ 0.7612479 , -0.9758356 ],\n",
       "        [ 0.29365706, -1.0115296 ],\n",
       "        [-0.20340216, -0.5891801 ]], dtype=float32),\n",
       " array([0., 0.], dtype=float32)]"
      ]
     },
     "execution_count": 73,
     "metadata": {},
     "output_type": "execute_result"
    }
   ],
   "source": [
    "ANN.layers[2].get_weights()"
   ]
  },
  {
   "cell_type": "code",
   "execution_count": 74,
   "metadata": {
    "colab": {},
    "colab_type": "code",
    "id": "nwrNErdrocRD"
   },
   "outputs": [],
   "source": [
    "w34=np.array([[0.3,0.2],[-0.5,0.5],[-0.7,0.2]])\n",
    "bias3=np.array([0.1,0.2])\n",
    "weights3=[w34,bias3]\n",
    "weights3\n",
    "\n",
    "ANN.layers[2].set_weights(weights3)"
   ]
  },
  {
   "cell_type": "code",
   "execution_count": 75,
   "metadata": {
    "colab": {},
    "colab_type": "code",
    "id": "B-VwplA6px0e"
   },
   "outputs": [],
   "source": [
    "from keras import optimizers\n",
    "sgd = optimizers.SGD(lr=0.9)\n",
    "ANN.compile(loss='mean_squared_error', optimizer=sgd,metrics=['accuracy'])"
   ]
  },
  {
   "cell_type": "code",
   "execution_count": 82,
   "metadata": {
    "colab": {
     "base_uri": "https://localhost:8080/",
     "height": 71
    },
    "colab_type": "code",
    "id": "VEW3kSHbqjaC",
    "outputId": "03ac3ab8-0e00-4b9d-a150-6a22e59cd066"
   },
   "outputs": [
    {
     "name": "stdout",
     "output_type": "stream",
     "text": [
      "Epoch 1/1\n",
      "\r",
      "1/1 [==============================] - 0s 7ms/step - loss: 0.0000e+00 - acc: 1.0000\n"
     ]
    },
    {
     "data": {
      "text/plain": [
       "<keras.callbacks.History at 0x1f2f2a990f0>"
      ]
     },
     "execution_count": 82,
     "metadata": {},
     "output_type": "execute_result"
    }
   ],
   "source": [
    "x=np.array([[1,0,1]])\n",
    "y=np.array([[1,0]])\n",
    "ANN.fit(x,y,epochs=1)"
   ]
  },
  {
   "cell_type": "code",
   "execution_count": 83,
   "metadata": {
    "colab": {
     "base_uri": "https://localhost:8080/",
     "height": 482
    },
    "colab_type": "code",
    "id": "-4dxYXewtNgm",
    "outputId": "0302b17c-91a4-45ad-c597-e31648071e33"
   },
   "outputs": [
    {
     "name": "stdout",
     "output_type": "stream",
     "text": [
      "[array([[ 0.14698297, -0.2676921 ],\n",
      "       [ 0.4       ,  0.1       ],\n",
      "       [-0.5530171 ,  0.23230793]], dtype=float32), array([0.34698293, 0.23230793], dtype=float32)]\n",
      "\n",
      "\n",
      "\n",
      "\n",
      "\n",
      "\n",
      "[array([[-0.35377687,  0.04268263,  0.4303021 ],\n",
      "       [-0.26353902, -0.26081303, -0.37395692]], dtype=float32), array([-0.01741019, -0.20420223, -0.12883817], dtype=float32)]\n",
      "\n",
      "\n",
      "\n",
      "\n",
      "\n",
      "\n",
      "[array([[ 0.6019747 ,  0.06569678],\n",
      "       [-0.0424867 ,  0.29345083],\n",
      "       [-0.19150932, -0.02946927]], dtype=float32), array([ 0.85634714, -0.13657345], dtype=float32)]\n",
      "\n",
      "\n",
      "\n",
      "\n",
      "\n",
      "\n"
     ]
    }
   ],
   "source": [
    "for i in range(3):\n",
    "  print(ANN.layers[i].get_weights())\n",
    "  print(\"\\n\\n\\n\\n\\n\")"
   ]
  },
  {
   "cell_type": "code",
   "execution_count": 84,
   "metadata": {
    "colab": {},
    "colab_type": "code",
    "id": "17HW3wAMt3ca"
   },
   "outputs": [],
   "source": [
    "weightupdate1=[x1 - x2 for (x1, x2) in zip(weights1, model.layers[0].get_weights())]"
   ]
  },
  {
   "cell_type": "code",
   "execution_count": 85,
   "metadata": {
    "colab": {
     "base_uri": "https://localhost:8080/",
     "height": 88
    },
    "colab_type": "code",
    "id": "no4X8xGJumWK",
    "outputId": "4994d474-f51f-4259-e411-f4d59a17825b"
   },
   "outputs": [
    {
     "data": {
      "text/plain": [
       "[array([[ 5.27389169e-02, -3.09468985e-02],\n",
       "        [-5.96046446e-09, -1.49011611e-09],\n",
       "        [ 5.27389646e-02, -3.09469134e-02]]),\n",
       " array([ 0.05273896, -0.03094691])]"
      ]
     },
     "execution_count": 85,
     "metadata": {},
     "output_type": "execute_result"
    }
   ],
   "source": [
    "weightupdate1"
   ]
  },
  {
   "cell_type": "code",
   "execution_count": 86,
   "metadata": {
    "colab": {
     "base_uri": "https://localhost:8080/",
     "height": 71
    },
    "colab_type": "code",
    "id": "c69Rq7G4upGI",
    "outputId": "7d9f4318-1847-4919-a35e-87b96c26f878"
   },
   "outputs": [
    {
     "data": {
      "text/plain": [
       "[array([[0.05091972, 0.15451205, 0.16645855],\n",
       "        [0.06031101, 0.15762868, 0.17027991]]),\n",
       " array([0.11150369, 0.29839817, 0.32213651])]"
      ]
     },
     "execution_count": 86,
     "metadata": {},
     "output_type": "execute_result"
    }
   ],
   "source": [
    "weightupdate2=[x1 - x2 for (x1, x2) in zip(weights2, model.layers[1].get_weights())]\n",
    "weightupdate2"
   ]
  },
  {
   "cell_type": "code",
   "execution_count": 87,
   "metadata": {
    "colab": {
     "base_uri": "https://localhost:8080/",
     "height": 71
    },
    "colab_type": "code",
    "id": "tuG1AqRsuwSM",
    "outputId": "ff00a7d4-4aab-43aa-b38b-39c19c755fe4"
   },
   "outputs": [
    {
     "data": {
      "text/plain": [
       "[array([[-0.30187656,  0.13453055],\n",
       "        [-0.45741196,  0.20678163],\n",
       "        [-0.50838652,  0.22973308]]), array([-0.7557325 ,  0.33698137])]"
      ]
     },
     "execution_count": 87,
     "metadata": {},
     "output_type": "execute_result"
    }
   ],
   "source": [
    "weightupdate3=[x1 - x2 for (x1, x2) in zip(weights3, model.layers[2].get_weights())]\n",
    "weightupdate3"
   ]
  },
  {
   "cell_type": "code",
   "execution_count": null,
   "metadata": {},
   "outputs": [],
   "source": []
  }
 ],
 "metadata": {
  "colab": {
   "name": "ANN_Weights.ipynb",
   "provenance": [],
   "version": "0.3.2"
  },
  "kernelspec": {
   "display_name": "Python 3",
   "language": "python",
   "name": "python3"
  },
  "language_info": {
   "codemirror_mode": {
    "name": "ipython",
    "version": 3
   },
   "file_extension": ".py",
   "mimetype": "text/x-python",
   "name": "python",
   "nbconvert_exporter": "python",
   "pygments_lexer": "ipython3",
   "version": "3.7.3"
  }
 },
 "nbformat": 4,
 "nbformat_minor": 1
}
